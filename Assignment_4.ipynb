{
 "cells": [
  {
   "cell_type": "markdown",
   "metadata": {},
   "source": [
    "1.1 Write a Python Program(with class concepts) to find the area of the triangle using the below\n",
    "formula.\n",
    "\n",
    "area = (s*(s-a)*(s-b)*(s-c)) ** 0.5\n",
    "\n",
    "Function to take the length of the sides of triangle from user should be defined in the parent\n",
    "class and function to calculate the area should be defined in subclass."
   ]
  },
  {
   "cell_type": "code",
   "execution_count": 5,
   "metadata": {},
   "outputs": [
    {
     "name": "stdout",
     "output_type": "stream",
     "text": [
      "Enter the length of side a:6\n",
      "Enter the length of side b:7\n",
      "Enter the length of side c:8\n",
      "Area of the triangle is 20.33316256758894\n"
     ]
    }
   ],
   "source": [
    "class Triangle:\n",
    "    def __init__(self,a,b,c):\n",
    "        self.a=a\n",
    "        self.b=b\n",
    "        self.c=c\n",
    "    def area(self):\n",
    "        s=(self.a+self.b+self.c)/2\n",
    "        area=(s*(s-self.a)*(s-self.b)*(s-self.c))**0.5\n",
    "        return area\n",
    "    \n",
    "a=float(input(\"Enter the length of side a:\"))\n",
    "b=float(input(\"Enter the length of side b:\"))\n",
    "c=float(input(\"Enter the length of side c:\"))\n",
    "T=Triangle(a,b,c)\n",
    "\n",
    "print(\"Area of the triangle is {}\".format(T.area()))"
   ]
  },
  {
   "cell_type": "markdown",
   "metadata": {},
   "source": [
    "1.2 Write a function filter_long_words() that takes a list of words and an integer n and returns\n",
    "the list of words that are longer than n."
   ]
  },
  {
   "cell_type": "code",
   "execution_count": 8,
   "metadata": {},
   "outputs": [
    {
     "name": "stdout",
     "output_type": "stream",
     "text": [
      "Enter the value for n:5\n",
      "List of words longer than 5 is:\n",
      "['Pankaj', 'Bhavesh', 'Nikhil', 'Ineuron']\n"
     ]
    }
   ],
   "source": [
    "def filter_long_words(lst1,n):\n",
    "    lst2=[]\n",
    "    for i in range(0,len(lst1)):\n",
    "        if len(lst1[i])>n:\n",
    "            lst2.append(lst1[i])\n",
    "    return lst2\n",
    "lst3=['Pankaj','kumar','Bhavesh','Nikhil','Ineuron','afasf','asd','s']\n",
    "n=int(input(\"Enter the value for n:\"))\n",
    "lst=filter_long_words(lst3,n)\n",
    "print(\"List of words longer than {} is:\".format(n))\n",
    "print(lst)"
   ]
  },
  {
   "cell_type": "markdown",
   "metadata": {},
   "source": [
    "2.1 Write a Python program using function concept that maps list of words into a list of integers\n",
    "representing the lengths of the corresponding words.\n",
    "\n",
    "Hint: If a list [ ab,cde,erty] is passed on to the python function output should come as [2,3,4]\n",
    "Here 2,3 and 4 are the lengths of the words in the list.\n"
   ]
  },
  {
   "cell_type": "code",
   "execution_count": 24,
   "metadata": {},
   "outputs": [
    {
     "name": "stdout",
     "output_type": "stream",
     "text": [
      "[2, 3, 4]\n"
     ]
    }
   ],
   "source": [
    "def find_length(lst1):\n",
    "    list1=[]\n",
    "    for i in range (0,len(lst1)):\n",
    "        list1.append(len(lst1[i]))\n",
    "    return list1\n",
    "\n",
    "list2=['ab','cde','erty']\n",
    "length_lst=find_length(list2)\n",
    "print(length_lst)"
   ]
  },
  {
   "cell_type": "markdown",
   "metadata": {},
   "source": [
    "2.2 Write a Python function which takes a character (i.e. a string of length 1) and returns True if\n",
    "it is a vowel, False otherwise."
   ]
  },
  {
   "cell_type": "code",
   "execution_count": 25,
   "metadata": {},
   "outputs": [
    {
     "name": "stdout",
     "output_type": "stream",
     "text": [
      "True\n",
      "True\n",
      "False\n",
      "Please type Single Alphabet\n",
      "None\n"
     ]
    }
   ],
   "source": [
    "def vowel(x):\n",
    "    if len(x)==1:\n",
    "        if x in ('a','e','i','o','u','A','E','I','O','U'):\n",
    "            return True \n",
    "        else:\n",
    "            return False\n",
    "    else:\n",
    "        print('Please type Single Alphabet')\n",
    "           \n",
    "print(vowel('a'))\n",
    "print(vowel('E'))\n",
    "print(vowel('d'))\n",
    "print(vowel('alshf'))"
   ]
  },
  {
   "cell_type": "markdown",
   "metadata": {},
   "source": [
    "# Thank you!"
   ]
  }
 ],
 "metadata": {
  "kernelspec": {
   "display_name": "Python 3",
   "language": "python",
   "name": "python3"
  },
  "language_info": {
   "codemirror_mode": {
    "name": "ipython",
    "version": 3
   },
   "file_extension": ".py",
   "mimetype": "text/x-python",
   "name": "python",
   "nbconvert_exporter": "python",
   "pygments_lexer": "ipython3",
   "version": "3.8.5"
  }
 },
 "nbformat": 4,
 "nbformat_minor": 4
}
